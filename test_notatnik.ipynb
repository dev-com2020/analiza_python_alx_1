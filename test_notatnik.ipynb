{
 "cells": [
  {
   "cell_type": "code",
   "execution_count": 4,
   "id": "43c26747",
   "metadata": {},
   "outputs": [],
   "source": [
    "imiona = [\"Jan\", \"Anna\", \"Piotr\", \"Kowalski\"]"
   ]
  },
  {
   "cell_type": "markdown",
   "id": "66537fda",
   "metadata": {},
   "source": [
    "# nagłówek 1\n",
    "## nagłówek 2\n",
    "### nagłówek 3\n",
    "\n",
    "**pogrubienie**\n",
    "*podkreślenie*\n",
    "_kursywa_\n",
    "\n",
    "- element listy\n",
    "  - element listy\n",
    "- element listy\n",
    "\n",
    "1. element listy\n",
    "2. element listy\n",
    "3. element listy\n",
    "\n",
    "> _**cytat jakiegoś tekstu**_\n",
    "\n",
    "---\n",
    "\n",
    "| imię | wiek   |\n",
    "|------|--------|\n",
    "| Tom  | 20     |\n",
    "| Jane | 21     |\n",
    "\n",
    "`print(\"Hello World!\")`"
   ]
  },
  {
   "cell_type": "markdown",
   "id": "87341db0",
   "metadata": {},
   "source": [
    "- zrób w klasie swoją wersję BANKOMATU\n",
    "- musi mieć stan konta\n",
    "- musi mieć możliwość wpłaty\n",
    "- musi mieć możliwość wyplaty\n",
    "- musi mieć możliwość sprawdzenia stanu konta\n",
    "- musi obsługiwać dowolny błąd :)"
   ]
  },
  {
   "cell_type": "code",
   "execution_count": 10,
   "id": "c0a97d45",
   "metadata": {},
   "outputs": [
    {
     "name": "stdout",
     "output_type": "stream",
     "text": [
      "5.0\n",
      "Koniec programu\n"
     ]
    }
   ],
   "source": [
    "# obsługa błędów\n",
    "\n",
    "try:\n",
    "    a = 10\n",
    "    b = 2\n",
    "    c = a / b\n",
    "    print(c)\n",
    "except ZeroDivisionError:\n",
    "    print(\"Nie można dzielić przez zero!\")\n",
    "except NameError:\n",
    "    print(\"Nie ma zmiennej o takiej nazwie!\")\n",
    "except:\n",
    "    print(\"Coś poszło nie tak...\")\n",
    "finally:\n",
    "    print(\"Koniec programu\")"
   ]
  },
  {
   "cell_type": "markdown",
   "id": "076131d3",
   "metadata": {},
   "source": [
    "tutaj jest wzór na pierwszy program w Pythonie: $a^2 + b^2 = c^2$\n",
    "\n",
    "$x_i, \\; x_{i+1}, \\; a^2, \\; a^{10}$\n",
    "\n",
    "$\\frac{a}{b}, \\; \\dfrac{1}{x+1}$\n",
    "\n",
    "$\\sqrt{x}, \\; \\sqrt[3]{y}$\n",
    "\n",
    "$\\sum_{i=1}^{n} i, \\;\n",
    "\\prod_{k=1}^{n} k, \\;\n",
    "\\lim_{x \\to \\infty} \\frac{1}{x}$\n",
    "\n",
    "$\\alpha, \\beta, \\gamma, \\pi, \\theta, \\infty\n",
    "\\leq, \\geq, \\neq, \\approx$\n",
    "\n",
    "$\\begin{bmatrix}\n",
    "1 & 2 \\\\\n",
    "3 & 4\n",
    "\\end{bmatrix}$"
   ]
  }
 ],
 "metadata": {
  "kernelspec": {
   "display_name": "moje_srodowisko",
   "language": "python",
   "name": "python3"
  },
  "language_info": {
   "codemirror_mode": {
    "name": "ipython",
    "version": 3
   },
   "file_extension": ".py",
   "mimetype": "text/x-python",
   "name": "python",
   "nbconvert_exporter": "python",
   "pygments_lexer": "ipython3",
   "version": "3.13.7"
  }
 },
 "nbformat": 4,
 "nbformat_minor": 5
}
