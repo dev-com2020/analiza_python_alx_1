{
 "cells": [
  {
   "cell_type": "code",
   "execution_count": null,
   "id": "43c26747",
   "metadata": {},
   "outputs": [],
   "source": [
    "print(\"test\")"
   ]
  },
  {
   "cell_type": "markdown",
   "id": "66537fda",
   "metadata": {},
   "source": [
    "# nagłówek 1\n",
    "## nagłówek 2\n",
    "### nagłówek 3\n",
    "\n",
    "**pogrubienie**\n",
    "*podkreślenie*\n",
    "_kursywa_\n",
    "\n",
    "- element listy\n",
    "  - element listy\n",
    "- element listy\n",
    "\n",
    "1. element listy\n",
    "2. element listy\n",
    "3. element listy\n",
    "\n",
    "> _**cytat jakiegoś tekstu**_\n",
    "\n",
    "---\n",
    "\n",
    "| imię | wiek   |\n",
    "|------|--------|\n",
    "| Tom  | 20     |\n",
    "| Jane | 21     |"
   ]
  }
 ],
 "metadata": {
  "kernelspec": {
   "display_name": "moje_srodowisko",
   "language": "python",
   "name": "python3"
  },
  "language_info": {
   "codemirror_mode": {
    "name": "ipython",
    "version": 3
   },
   "file_extension": ".py",
   "mimetype": "text/x-python",
   "name": "python",
   "nbconvert_exporter": "python",
   "pygments_lexer": "ipython3",
   "version": "3.13.7"
  }
 },
 "nbformat": 4,
 "nbformat_minor": 5
}
